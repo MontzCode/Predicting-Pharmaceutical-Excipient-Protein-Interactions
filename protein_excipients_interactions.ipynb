{
 "cells": [
  {
   "cell_type": "code",
   "execution_count": null,
   "metadata": {
    "colab": {
     "base_uri": "https://localhost:8080/"
    },
    "id": "eM1kIoVlO_Qf",
    "outputId": "b49296ef-a599-4723-852e-75f5d5c15ec2"
   },
   "outputs": [],
   "source": [
    "!pip install shap"
   ]
  },
  {
   "cell_type": "code",
   "execution_count": null,
   "metadata": {
    "colab": {
     "base_uri": "https://localhost:8080/"
    },
    "id": "f7pGit3vUDNK",
    "outputId": "ad917fc1-9ec4-4b58-fd4b-e9c646eed27b"
   },
   "outputs": [],
   "source": [
    "!pip install rdkit-pypi"
   ]
  },
  {
   "cell_type": "code",
   "execution_count": null,
   "metadata": {
    "colab": {
     "base_uri": "https://localhost:8080/"
    },
    "id": "zcaaMWCQndLs",
    "outputId": "8a62cee4-3642-48c5-b7f8-944ed7386520"
   },
   "outputs": [],
   "source": [
    "!pip install shap rdkit scikit-learn"
   ]
  },
  {
   "cell_type": "code",
   "execution_count": null,
   "metadata": {},
   "outputs": [],
   "source": [
    "pip install bayesian-optimization"
   ]
  },
  {
   "cell_type": "code",
   "execution_count": null,
   "metadata": {
    "id": "RS3kP1HRTzE7"
   },
   "outputs": [],
   "source": [
    "import pandas as pd\n",
    "import numpy as np\n",
    "from rdkit import Chem  # Ensure RDKit's Chem module is imported\n",
    "from rdkit.Chem import rdFingerprintGenerator\n",
    "from rdkit import DataStructs\n",
    "from sklearn.neural_network import MLPRegressor\n",
    "from sklearn.preprocessing import StandardScaler\n",
    "from sklearn.model_selection import KFold, RandomizedSearchCV, cross_val_predict, train_test_split\n",
    "from sklearn.metrics import mean_squared_error, r2_score, mean_absolute_error, explained_variance_score, make_scorer\n",
    "import matplotlib.pyplot as plt\n",
    "from scipy.stats import randint, uniform\n",
    "import seaborn as sns\n",
    "from sklearn.preprocessing import RobustScaler\n",
    "from sklearn.model_selection import cross_val_score\n",
    "from sklearn.inspection import permutation_importance\n",
    "from sklearn.inspection import PartialDependenceDisplay\n",
    "from sklearn.svm import SVR\n",
    "import math\n",
    "from scipy.stats import uniform\n",
    "import BayesianOptimization \n",
    "from bayes_opt import BayesianOptimization\n",
    "import shap\n",
    "from sklearn.ensemble import RandomForestRegressor\n",
    "from scipy.stats import randint"
   ]
  },
  {
   "cell_type": "code",
   "execution_count": null,
   "metadata": {
    "id": "uzHpJsMtU4gY"
   },
   "outputs": [],
   "source": [
    "# Load the dataset\n",
    "glp = pd.read_csv(\"glp.csv\")"
   ]
  },
  {
   "cell_type": "code",
   "execution_count": null,
   "metadata": {
    "colab": {
     "base_uri": "https://localhost:8080/"
    },
    "id": "xQ8l6PAKVCfa",
    "outputId": "a59368bf-a667-4823-9448-3f057778c7c7"
   },
   "outputs": [],
   "source": [
    "# Initial data exploration\n",
    "print(glp.head())\n",
    "print(glp.tail())\n",
    "print(glp.describe())\n",
    "print(glp.shape)\n",
    "print(glp.isnull().sum())"
   ]
  },
  {
   "cell_type": "code",
   "execution_count": null,
   "metadata": {
    "colab": {
     "base_uri": "https://localhost:8080/",
     "height": 1000
    },
    "id": "ACiJRNy1VN0X",
    "outputId": "0ce7c933-3b05-4403-85f9-7c957aa15ce2"
   },
   "outputs": [],
   "source": [
    "# Early EDA\n",
    "plt.figure(figsize=(10, 6))\n",
    "sns.histplot(glp['pChEMBL Value'], kde=True)\n",
    "plt.title('Distribution of pChEMBL Values')\n",
    "plt.xlabel('pChEMBL Value')\n",
    "plt.ylabel('Frequency')\n",
    "plt.show()\n",
    "\n",
    "plt.figure(figsize=(6, 8))\n",
    "sns.boxplot(y=glp['pChEMBL Value'])\n",
    "plt.title('Boxplot of pChEMBL Values')\n",
    "plt.ylabel('pChEMBL Value')\n",
    "plt.show()"
   ]
  },
  {
   "cell_type": "code",
   "execution_count": null,
   "metadata": {
    "id": "3OlaQ_kFVSQ0"
   },
   "outputs": [],
   "source": [
    "# Extract SMILES and pChEMBL values\n",
    "smiles = glp['Smiles']\n",
    "pchembl_value = glp['pChEMBL Value']\n",
    "\n",
    "# Function to convert SMILES to molecular fingerprints\n",
    "def smiles_to_fingerprint(smiles):\n",
    "    \"\"\"Converts a SMILES string to a molecular fingerprint.\"\"\"\n",
    "    mol = Chem.MolFromSmiles(smiles)\n",
    "    if mol is None:\n",
    "        return np.zeros(2048)  # Handle invalid SMILES\n",
    "    generator = rdFingerprintGenerator.GetMorganGenerator(radius=2)\n",
    "    fp = generator.GetFingerprint(mol)\n",
    "    arr = np.zeros((2048,))\n",
    "    DataStructs.ConvertToNumpyArray(fp, arr)\n",
    "    return arr"
   ]
  },
  {
   "cell_type": "code",
   "execution_count": null,
   "metadata": {
    "id": "Qp0LGq_MV-gq"
   },
   "outputs": [],
   "source": [
    "# Apply the function to the SMILES column\n",
    "X = np.array([smiles_to_fingerprint(sm) for sm in smiles])\n",
    "\n",
    "# Define the target\n",
    "y = pchembl_value"
   ]
  },
  {
   "cell_type": "code",
   "execution_count": null,
   "metadata": {
    "id": "6UknT1CMV-EL"
   },
   "outputs": [],
   "source": [
    "# Feature scaling\n",
    "scaler_X = RobustScaler()\n",
    "X_scaled = scaler_X.fit_transform(X)"
   ]
  },
  {
   "cell_type": "code",
   "execution_count": null,
   "metadata": {},
   "outputs": [],
   "source": [
    "# Set up KFold cross-validation\n",
    "kf = KFold(n_splits=5, shuffle=True, random_state=42)\n",
    "\n",
    "# Define a function to compute the metrics\n",
    "def evaluate_model(model, X, y, cv):\n",
    "    predictions = cross_val_predict(model, X, y, cv=cv)\n",
    "    rmse = np.sqrt(mean_squared_error(y, predictions))\n",
    "    mae = mean_absolute_error(y, predictions)\n",
    "    r2 = r2_score(y, predictions)\n",
    "    ev = explained_variance_score(y, predictions)\n",
    "    print(f\"RMSE: {rmse:.4f}, MAE: {mae:.4f}, R²: {r2:.4f}, EV: {ev:.4f}\")\n",
    "    return rmse, mae, r2, ev"
   ]
  },
  {
   "cell_type": "code",
   "execution_count": null,
   "metadata": {
    "id": "Q66dtHYeV9jm"
   },
   "outputs": [],
   "source": [
    "### Multi-Layer Perceptron (MLP) Regressor with Randomized Search ###\n",
    "mlp = MLPRegressor(max_iter=500, random_state=42)\n",
    "param_dist_mlp = {\n",
    "    'hidden_layer_sizes': [(randint.rvs(50, 150),), (randint.rvs(100, 300),), (randint.rvs(150, 500),)],\n",
    "    'activation': ['logistic', 'relu', 'tanh'],\n",
    "    'solver': ['adam', 'lbfgs', 'sgd'],\n",
    "    'alpha': uniform(0.0001, 0.1),\n",
    "    'learning_rate': ['constant', 'adaptive', 'invscaling'],\n",
    "    'learning_rate_init': uniform(0.0001, 0.01),\n",
    "    'max_iter': randint(100, 1000),\n",
    "    'early_stopping': [True, False],\n",
    "}\n",
    "random_search_mlp = RandomizedSearchCV(mlp, param_distributions=param_dist_mlp, n_iter=50, cv=5, verbose=2, random_state=42, n_jobs=-1)\n",
    "random_search_mlp.fit(X_scaled, y)"
   ]
  },
  {
   "cell_type": "code",
   "execution_count": null,
   "metadata": {},
   "outputs": [],
   "source": [
    "# Evaluate MLP model\n",
    "print(\"MLP Regressor Metrics:\")\n",
    "evaluate_model(random_search_mlp.best_estimator_, X_scaled, y, kf)"
   ]
  },
  {
   "cell_type": "code",
   "execution_count": null,
   "metadata": {
    "id": "fnw8auiPV8OR"
   },
   "outputs": [],
   "source": [
    "### Support Vector Machine (SVR) with Randomized Search ###\n",
    "X_train, X_test, y_train, y_test = train_test_split(X, y, test_size=0.2, random_state=42)\n",
    "scaler_X = StandardScaler()\n",
    "scaler_y = StandardScaler()\n",
    "X_train_scaled = scaler_X.fit_transform(X_train)\n",
    "X_test_scaled = scaler_X.transform(X_test)\n",
    "y_train_scaled = scaler_y.fit_transform(y_train.values.reshape(-1, 1)).flatten()\n",
    "\n",
    "svr = SVR(kernel='rbf', C=1.0, epsilon=0.1)\n",
    "svr.fit(X_train_scaled, y_train_scaled)"
   ]
  },
  {
   "cell_type": "code",
   "execution_count": null,
   "metadata": {},
   "outputs": [],
   "source": [
    "# Evaluate SVR model\n",
    "print(\"SVR Metrics:\")\n",
    "evaluate_model(svr, X_scaled, y, kf)"
   ]
  },
  {
   "cell_type": "code",
   "execution_count": null,
   "metadata": {
    "id": "9PBE41cqV7Iy"
   },
   "outputs": [],
   "source": [
    "### Random Forest Regressor with Randomized Search ###\n",
    "rf = RandomForestRegressor(random_state=42)\n",
    "param_dist_rf = {\n",
    "    'n_estimators': randint(50, 500),\n",
    "    'max_depth': randint(3, 20),\n",
    "    'min_samples_split': randint(2, 50),\n",
    "    'min_samples_leaf': randint(1, 20),\n",
    "    'bootstrap': [True, False],\n",
    "    'max_features': randint(1, X_scaled.shape[1])\n",
    "}\n",
    "random_search_rf = RandomizedSearchCV(rf, param_distributions=param_dist_rf, n_iter=50, cv=5, verbose=2, random_state=42, n_jobs=-1)\n",
    "random_search_rf.fit(X_scaled, y)"
   ]
  },
  {
   "cell_type": "code",
   "execution_count": null,
   "metadata": {},
   "outputs": [],
   "source": [
    "# Evaluate Random Forest model\n",
    "print(\"Random Forest Metrics:\")\n",
    "evaluate_model(random_search_rf.best_estimator_, X_scaled, y, kf)"
   ]
  },
  {
   "cell_type": "code",
   "execution_count": null,
   "metadata": {},
   "outputs": [],
   "source": [
    "# Model evaluation and SHAP explanations\n",
    "\n",
    "### Random Forest Model Evaluation and SHAP ###\n",
    "explainer_rf = shap.TreeExplainer(random_search_rf.best_estimator_)\n",
    "shap_values_rf = explainer_rf.shap_values(X_scaled)\n",
    "\n",
    "# SHAP summary plot for Random Forest\n",
    "shap.summary_plot(shap_values_rf, X_scaled, feature_names=[f'Feature {i}' for i in range(X_scaled.shape[1])], plot_type=\"bar\")\n",
    "shap.summary_plot(shap_values_rf, X_scaled, feature_names=[f'Feature {i}' for i in range(X_scaled.shape[1])])"
   ]
  },
  {
   "cell_type": "code",
   "execution_count": null,
   "metadata": {},
   "outputs": [],
   "source": [
    "# Predicted vs Actual plot for Random Forest\n",
    "y_pred_rf = random_search_rf.best_estimator_.predict(X_scaled)\n",
    "plt.figure(figsize=(10, 6))\n",
    "plt.scatter(y, y_pred_rf)\n",
    "plt.plot([min(y), max(y)], [min(y), max(y)], color='red', linestyle='--')\n",
    "plt.title('Predicted vs Actual pChEMBL Values (Random Forest)')\n",
    "plt.xlabel('Actual pChEMBL Value')\n",
    "plt.ylabel('Predicted pChEMBL Value')\n",
    "plt.show()\n",
    "\n",
    "# Residual plot for Random Forest\n",
    "residuals_rf = y - y_pred_rf\n",
    "plt.figure(figsize=(10, 6))\n",
    "plt.scatter(y_pred_rf, residuals_rf)\n",
    "plt.axhline(0, color='red', linestyle='--')\n",
    "plt.title('Residual Plot (Random Forest)')\n",
    "plt.xlabel('Predicted pChEMBL Value')\n",
    "plt.ylabel('Residuals')\n",
    "plt.show()"
   ]
  },
  {
   "cell_type": "code",
   "execution_count": null,
   "metadata": {},
   "outputs": [],
   "source": [
    "### MLP Model Evaluation and SHAP ###\n",
    "explainer_mlp = shap.KernelExplainer(random_search_mlp.best_estimator_.predict, X_scaled)\n",
    "shap_values_mlp = explainer_mlp.shap_values(X_scaled, nsamples=100)\n",
    "\n",
    "# SHAP summary plot for MLP\n",
    "shap.summary_plot(shap_values_mlp, X_scaled, feature_names=[f'Feature {i}' for i in range(X_scaled.shape[1])], plot_type=\"bar\")\n",
    "shap.summary_plot(shap_values_mlp, X_scaled, feature_names=[f'Feature {i}' for i in range(X_scaled.shape[1])])"
   ]
  },
  {
   "cell_type": "code",
   "execution_count": null,
   "metadata": {},
   "outputs": [],
   "source": [
    "# Predicted vs Actual plot for MLP\n",
    "y_pred_mlp = random_search_mlp.best_estimator_.predict(X_scaled)\n",
    "plt.figure(figsize=(10, 6))\n",
    "plt.scatter(y, y_pred_mlp)\n",
    "plt.plot([min(y), max(y)], [min(y), max(y)], color='red', linestyle='--')\n",
    "plt.title('Predicted vs Actual pChEMBL Values (MLP)')\n",
    "plt.xlabel('Actual pChEMBL Value')\n",
    "plt.ylabel('Predicted pChEMBL Value')\n",
    "plt.show()\n",
    "\n",
    "# Residual plot for MLP\n",
    "residuals_mlp = y - y_pred_mlp\n",
    "plt.figure(figsize=(10, 6))\n",
    "plt.scatter(y_pred_mlp, residuals_mlp)\n",
    "plt.axhline(0, color='red', linestyle='--')\n",
    "plt.title('Residual Plot (MLP)')\n",
    "plt.xlabel('Predicted pChEMBL Value')\n",
    "plt.ylabel('Residuals')\n",
    "plt.show()"
   ]
  },
  {
   "cell_type": "code",
   "execution_count": null,
   "metadata": {},
   "outputs": [],
   "source": [
    "### SVR Model Evaluation and SHAP ###\n",
    "explainer_svr = shap.KernelExplainer(svr.predict, X_train_scaled)\n",
    "shap_values_svr = explainer_svr.shap_values(X_scaled, nsamples=100)\n",
    "\n",
    "# SHAP summary plot for SVR\n",
    "shap.summary_plot(shap_values_svr, X_scaled, feature_names=[f'Feature {i}' for i in range(X_scaled.shape[1])], plot_type=\"bar\")\n",
    "shap.summary_plot(shap_values_svr, X_scaled, feature_names=[f'Feature {i}' for i in range(X_scaled.shape[1])])"
   ]
  },
  {
   "cell_type": "code",
   "execution_count": null,
   "metadata": {},
   "outputs": [],
   "source": [
    "# Predicted vs Actual plot for SVR\n",
    "y_pred_svr = svr.predict(X_scaled)\n",
    "plt.figure(figsize=(10, 6))\n",
    "plt.scatter(y, y_pred_svr)\n",
    "plt.plot([min(y), max(y)], [min(y), max(y)], color='red', linestyle='--')\n",
    "plt.title('Predicted vs Actual pChEMBL Values (SVR)')\n",
    "plt.xlabel('Actual pChEMBL Value')\n",
    "plt.ylabel('Predicted pChEMBL Value')\n",
    "plt.show()\n",
    "\n",
    "# Residual plot for SVR\n",
    "residuals_svr = y - y_pred_svr\n",
    "plt.figure(figsize=(10, 6))\n",
    "plt.scatter(y_pred_svr, residuals_svr)\n",
    "plt.axhline(0, color='red', linestyle='--')\n",
    "plt.title('Residual Plot (SVR)')\n",
    "plt.xlabel('Predicted pChEMBL Value')\n",
    "plt.ylabel('Residuals')\n",
    "plt.show()"
   ]
  },
  {
   "cell_type": "code",
   "execution_count": null,
   "metadata": {},
   "outputs": [],
   "source": [
    "    \"\"\"\n",
    "    Predictions for IIG Dataset\n",
    "    \"\"\""
   ]
  },
  {
   "cell_type": "code",
   "execution_count": null,
   "metadata": {},
   "outputs": [],
   "source": [
    "# Load the IIG dataset\n",
    "IIG_df = pd.read_csv(\"\")\n",
    "iig_smiles = IIG_df['CanonicalSMILES']"
   ]
  },
  {
   "cell_type": "code",
   "execution_count": null,
   "metadata": {},
   "outputs": [],
   "source": [
    "# Convert SMILES to molecular fingerprints\n",
    "iig_fingerprints = np.array([smiles_to_fingerprint(sm) for sm in iig_smiles])\n",
    "\n",
    "# Scale the fingerprints using the same scaler used for training\n",
    "iig_scaled = scaler_X.transform(iig_fingerprints)"
   ]
  },
  {
   "cell_type": "code",
   "execution_count": null,
   "metadata": {},
   "outputs": [],
   "source": [
    "    \"\"\"\n",
    "    Predictions for each model\n",
    "    \"\"\""
   ]
  },
  {
   "cell_type": "code",
   "execution_count": null,
   "metadata": {},
   "outputs": [],
   "source": [
    "# Random Forest (RF) Predictions\n",
    "iig_predictions_rf = random_search_rf.best_estimator_.predict(iig_scaled)\n",
    "IIG_df['Predicted pChEMBL Value_rf'] = iig_predictions_rf"
   ]
  },
  {
   "cell_type": "code",
   "execution_count": null,
   "metadata": {},
   "outputs": [],
   "source": [
    "# SVR Predictions\n",
    "iig_predictions_svr = svr.predict(iig_scaled)\n",
    "IIG_df['Predicted pChEMBL Value_svr'] = iig_predictions_svr"
   ]
  },
  {
   "cell_type": "code",
   "execution_count": null,
   "metadata": {},
   "outputs": [],
   "source": [
    "# MLP Predictions\n",
    "iig_predictions_mlp = random_search_mlp.best_estimator_.predict(iig_scaled)\n",
    "IIG_df['Predicted pChEMBL Value_mlp'] = iig_predictions_mlp"
   ]
  },
  {
   "cell_type": "code",
   "execution_count": null,
   "metadata": {},
   "outputs": [],
   "source": [
    "# Save the predictions to a new CSV file for each model\n",
    "IIG_df.to_csv('~/Documents/IIG_predictions_rf_svr_mlp.csv', index=False)\n",
    "print(\"Predictions for IIG dataset saved.\")"
   ]
  },
  {
   "cell_type": "code",
   "execution_count": null,
   "metadata": {},
   "outputs": [],
   "source": [
    "    \"\"\"\n",
    "    Top 3 Excipients for Each Model \n",
    "    Based on Predicted pChEMBL Values\n",
    "    \"\"\""
   ]
  },
  {
   "cell_type": "code",
   "execution_count": null,
   "metadata": {},
   "outputs": [],
   "source": [
    "# For Random Forest\n",
    "top_3_excipients_rf = IIG_df.nlargest(3, 'Predicted pChEMBL Value_rf')[['INGREDIENT_NAME', 'Predicted pChEMBL Value_rf']]\n",
    "print(\"Top 3 Excipients for RF:\")\n",
    "print(top_3_excipients_rf)"
   ]
  },
  {
   "cell_type": "code",
   "execution_count": null,
   "metadata": {},
   "outputs": [],
   "source": [
    "# For SVR\n",
    "top_3_excipients_svr = IIG_df.nlargest(3, 'Predicted pChEMBL Value_svr')[['INGREDIENT_NAME', 'Predicted pChEMBL Value_svr']]\n",
    "print(\"Top 3 Excipients for SVR:\")\n",
    "print(top_3_excipients_svr)"
   ]
  },
  {
   "cell_type": "code",
   "execution_count": null,
   "metadata": {},
   "outputs": [],
   "source": [
    "# For MLP\n",
    "top_3_excipients_mlp = IIG_df.nlargest(3, 'Predicted pChEMBL Value_mlp')[['INGREDIENT_NAME', 'Predicted pChEMBL Value_mlp']]\n",
    "print(\"Top 3 Excipients for MLP:\")\n",
    "print(top_3_excipients_mlp)"
   ]
  },
  {
   "cell_type": "code",
   "execution_count": null,
   "metadata": {},
   "outputs": [],
   "source": [
    "    \"\"\"\n",
    "    Creating boxplots for each model's predicted pChEMBL values\n",
    "    \"\"\""
   ]
  },
  {
   "cell_type": "code",
   "execution_count": null,
   "metadata": {},
   "outputs": [],
   "source": [
    "# Boxplot for Random Forest\n",
    "plt.figure(figsize=(10, 6))\n",
    "plt.boxplot(IIG_df['Predicted pChEMBL Value_rf'])\n",
    "plt.title('Boxplot of Predicted pChEMBL Values (Random Forest)')\n",
    "plt.ylabel('Predicted pChEMBL Value_rf')\n",
    "plt.show()\n",
    "\n",
    "# Boxplot for SVR\n",
    "plt.figure(figsize=(10, 6))\n",
    "plt.boxplot(IIG_df['Predicted pChEMBL Value_svr'])\n",
    "plt.title('Boxplot of Predicted pChEMBL Values (SVR)')\n",
    "plt.ylabel('Predicted pChEMBL Value_svr')\n",
    "plt.show()\n",
    "\n",
    "# Boxplot for MLP\n",
    "plt.figure(figsize=(10, 6))\n",
    "plt.boxplot(IIG_df['Predicted pChEMBL Value_mlp'])\n",
    "plt.title('Boxplot of Predicted pChEMBL Values (MLP)')\n",
    "plt.ylabel('Predicted pChEMBL Value_mlp')\n",
    "plt.show()"
   ]
  },
  {
   "cell_type": "code",
   "execution_count": null,
   "metadata": {},
   "outputs": [],
   "source": []
  },
  {
   "cell_type": "code",
   "execution_count": null,
   "metadata": {},
   "outputs": [],
   "source": []
  }
 ],
 "metadata": {
  "accelerator": "GPU",
  "colab": {
   "gpuType": "T4",
   "machine_shape": "hm",
   "provenance": []
  },
  "kernelspec": {
   "display_name": "Python 3 (ipykernel)",
   "language": "python",
   "name": "python3"
  },
  "language_info": {
   "codemirror_mode": {
    "name": "ipython",
    "version": 3
   },
   "file_extension": ".py",
   "mimetype": "text/x-python",
   "name": "python",
   "nbconvert_exporter": "python",
   "pygments_lexer": "ipython3",
   "version": "3.11.5"
  }
 },
 "nbformat": 4,
 "nbformat_minor": 4
}
